{
  "nbformat": 4,
  "nbformat_minor": 0,
  "metadata": {
    "colab": {
      "name": "dengue.ipynb",
      "provenance": [],
      "collapsed_sections": [
        "gIzMFmHdWXGy",
        "syBI4oc_-UsC"
      ],
      "machine_shape": "hm"
    },
    "kernelspec": {
      "name": "python3",
      "display_name": "Python 3"
    }
  },
  "cells": [
    {
      "cell_type": "markdown",
      "metadata": {
        "id": "o0854mjRMIsd",
        "colab_type": "text"
      },
      "source": [
        "# **DATA SCIENCE: ANÁLISE EM BASE DE DADOS DE CASOS DE DENGUE (SINAN)**"
      ]
    },
    {
      "cell_type": "code",
      "metadata": {
        "id": "VcDRSjKNVHm9",
        "colab_type": "code",
        "outputId": "ba032125-b74b-4cbc-e5fd-08960fd07009",
        "colab": {
          "base_uri": "https://localhost:8080/",
          "height": 51
        }
      },
      "source": [
        "import pandas as pd\n",
        "from google.colab import drive\n",
        "import matplotlib.pyplot as plt\n",
        "import seaborn as sns\n",
        "import numpy as np\n",
        "#from google.colab import files"
      ],
      "execution_count": 2,
      "outputs": [
        {
          "output_type": "stream",
          "text": [
            "/usr/local/lib/python3.6/dist-packages/statsmodels/tools/_testing.py:19: FutureWarning: pandas.util.testing is deprecated. Use the functions in the public API at pandas.testing instead.\n",
            "  import pandas.util.testing as tm\n"
          ],
          "name": "stderr"
        }
      ]
    },
    {
      "cell_type": "code",
      "metadata": {
        "id": "gbRDkGlaXEuB",
        "colab_type": "code",
        "colab": {}
      },
      "source": [
        "#drive.mount('/content/drive')\n",
        "#df = pd.read_csv('/content/drive/Shared drives/TCC - Mineração de Dados/DBF DENGUE Final/Dengue(Primeira Filtragem).csv', sep=\";\")\n"
      ],
      "execution_count": 0,
      "outputs": []
    },
    {
      "cell_type": "code",
      "metadata": {
        "id": "ESHQ7H08lM2f",
        "colab_type": "code",
        "colab": {}
      },
      "source": [
        "uri = 'https://media.githubusercontent.com/media/migueelcruz/DataScience_Dengue/master/Dengue(Primeira%20Filtragem).csv'\n",
        "df = pd.read_csv(uri, sep=\";\")"
      ],
      "execution_count": 0,
      "outputs": []
    },
    {
      "cell_type": "code",
      "metadata": {
        "id": "XI0gJidCBBhp",
        "colab_type": "code",
        "colab": {}
      },
      "source": [
        "df.drop(['Unnamed: 33'], axis= 1 ,inplace=True)\n",
        "\n",
        "obitos_2018 = df.query(\"dt_obito < '2019-01-01'\").index\n",
        "df.drop(obitos_2018, inplace=True)"
      ],
      "execution_count": 0,
      "outputs": []
    },
    {
      "cell_type": "code",
      "metadata": {
        "id": "B0JB0Oq54l4P",
        "colab_type": "code",
        "colab": {}
      },
      "source": [
        "notific_2018 = df.query(\"dt_notific < '2019-01-01'\").index\n",
        "df.drop(notific_2018, inplace=True)"
      ],
      "execution_count": 0,
      "outputs": []
    },
    {
      "cell_type": "code",
      "metadata": {
        "id": "kiT3VcDk-0Yb",
        "colab_type": "code",
        "outputId": "b065c26b-687d-4064-a68c-54458cbcda45",
        "colab": {
          "base_uri": "https://localhost:8080/",
          "height": 609
        }
      },
      "source": [
        "df"
      ],
      "execution_count": 7,
      "outputs": [
        {
          "output_type": "execute_result",
          "data": {
            "text/html": [
              "<div>\n",
              "<style scoped>\n",
              "    .dataframe tbody tr th:only-of-type {\n",
              "        vertical-align: middle;\n",
              "    }\n",
              "\n",
              "    .dataframe tbody tr th {\n",
              "        vertical-align: top;\n",
              "    }\n",
              "\n",
              "    .dataframe thead th {\n",
              "        text-align: right;\n",
              "    }\n",
              "</style>\n",
              "<table border=\"1\" class=\"dataframe\">\n",
              "  <thead>\n",
              "    <tr style=\"text-align: right;\">\n",
              "      <th></th>\n",
              "      <th>nu_notific</th>\n",
              "      <th>dt_notific</th>\n",
              "      <th>sg_uf_not</th>\n",
              "      <th>id_municip</th>\n",
              "      <th>dt_sin_pri</th>\n",
              "      <th>dt_nasc</th>\n",
              "      <th>cs_sexo</th>\n",
              "      <th>cs_raca</th>\n",
              "      <th>cs_escol_n</th>\n",
              "      <th>id_mn_resi</th>\n",
              "      <th>febre</th>\n",
              "      <th>mialgia</th>\n",
              "      <th>cefaleia</th>\n",
              "      <th>exantema</th>\n",
              "      <th>vomito</th>\n",
              "      <th>nausea</th>\n",
              "      <th>dor_costas</th>\n",
              "      <th>conjuntvit</th>\n",
              "      <th>artrite</th>\n",
              "      <th>artralgia</th>\n",
              "      <th>petequia_n</th>\n",
              "      <th>leucopenia</th>\n",
              "      <th>laco</th>\n",
              "      <th>dor_retro</th>\n",
              "      <th>diabetes</th>\n",
              "      <th>hematolog</th>\n",
              "      <th>hepatopat</th>\n",
              "      <th>renal</th>\n",
              "      <th>hipertensa</th>\n",
              "      <th>acido_pept</th>\n",
              "      <th>auto_imune</th>\n",
              "      <th>evolucao</th>\n",
              "      <th>dt_obito</th>\n",
              "    </tr>\n",
              "  </thead>\n",
              "  <tbody>\n",
              "    <tr>\n",
              "      <th>0</th>\n",
              "      <td>48694</td>\n",
              "      <td>2019-01-04</td>\n",
              "      <td>12</td>\n",
              "      <td>120020</td>\n",
              "      <td>2019-01-01</td>\n",
              "      <td>1977-03-02</td>\n",
              "      <td>F</td>\n",
              "      <td>4.0</td>\n",
              "      <td>1.0</td>\n",
              "      <td>120020.0</td>\n",
              "      <td>1.0</td>\n",
              "      <td>1.0</td>\n",
              "      <td>1.0</td>\n",
              "      <td>1.0</td>\n",
              "      <td>2.0</td>\n",
              "      <td>2.0</td>\n",
              "      <td>2.0</td>\n",
              "      <td>2.0</td>\n",
              "      <td>2.0</td>\n",
              "      <td>2.0</td>\n",
              "      <td>2.0</td>\n",
              "      <td>2.0</td>\n",
              "      <td>2.0</td>\n",
              "      <td>2.0</td>\n",
              "      <td>2.0</td>\n",
              "      <td>2.0</td>\n",
              "      <td>2.0</td>\n",
              "      <td>2.0</td>\n",
              "      <td>2.0</td>\n",
              "      <td>2.0</td>\n",
              "      <td>2.0</td>\n",
              "      <td>1.0</td>\n",
              "      <td>None</td>\n",
              "    </tr>\n",
              "    <tr>\n",
              "      <th>1</th>\n",
              "      <td>46973</td>\n",
              "      <td>2019-04-10</td>\n",
              "      <td>12</td>\n",
              "      <td>120020</td>\n",
              "      <td>2019-04-01</td>\n",
              "      <td>1981-06-23</td>\n",
              "      <td>F</td>\n",
              "      <td>4.0</td>\n",
              "      <td>NaN</td>\n",
              "      <td>120020.0</td>\n",
              "      <td>1.0</td>\n",
              "      <td>1.0</td>\n",
              "      <td>1.0</td>\n",
              "      <td>2.0</td>\n",
              "      <td>1.0</td>\n",
              "      <td>2.0</td>\n",
              "      <td>1.0</td>\n",
              "      <td>2.0</td>\n",
              "      <td>1.0</td>\n",
              "      <td>2.0</td>\n",
              "      <td>2.0</td>\n",
              "      <td>2.0</td>\n",
              "      <td>2.0</td>\n",
              "      <td>1.0</td>\n",
              "      <td>2.0</td>\n",
              "      <td>2.0</td>\n",
              "      <td>2.0</td>\n",
              "      <td>2.0</td>\n",
              "      <td>2.0</td>\n",
              "      <td>2.0</td>\n",
              "      <td>2.0</td>\n",
              "      <td>1.0</td>\n",
              "      <td>None</td>\n",
              "    </tr>\n",
              "    <tr>\n",
              "      <th>2</th>\n",
              "      <td>50975</td>\n",
              "      <td>2019-09-23</td>\n",
              "      <td>12</td>\n",
              "      <td>120020</td>\n",
              "      <td>2019-09-21</td>\n",
              "      <td>1967-02-11</td>\n",
              "      <td>F</td>\n",
              "      <td>4.0</td>\n",
              "      <td>5.0</td>\n",
              "      <td>120020.0</td>\n",
              "      <td>1.0</td>\n",
              "      <td>1.0</td>\n",
              "      <td>1.0</td>\n",
              "      <td>2.0</td>\n",
              "      <td>1.0</td>\n",
              "      <td>2.0</td>\n",
              "      <td>1.0</td>\n",
              "      <td>2.0</td>\n",
              "      <td>2.0</td>\n",
              "      <td>2.0</td>\n",
              "      <td>2.0</td>\n",
              "      <td>2.0</td>\n",
              "      <td>2.0</td>\n",
              "      <td>1.0</td>\n",
              "      <td>2.0</td>\n",
              "      <td>2.0</td>\n",
              "      <td>2.0</td>\n",
              "      <td>2.0</td>\n",
              "      <td>2.0</td>\n",
              "      <td>2.0</td>\n",
              "      <td>2.0</td>\n",
              "      <td>1.0</td>\n",
              "      <td>None</td>\n",
              "    </tr>\n",
              "    <tr>\n",
              "      <th>3</th>\n",
              "      <td>30658</td>\n",
              "      <td>2019-01-05</td>\n",
              "      <td>12</td>\n",
              "      <td>120033</td>\n",
              "      <td>2019-01-02</td>\n",
              "      <td>1986-07-30</td>\n",
              "      <td>F</td>\n",
              "      <td>4.0</td>\n",
              "      <td>9.0</td>\n",
              "      <td>120033.0</td>\n",
              "      <td>1.0</td>\n",
              "      <td>1.0</td>\n",
              "      <td>1.0</td>\n",
              "      <td>2.0</td>\n",
              "      <td>1.0</td>\n",
              "      <td>2.0</td>\n",
              "      <td>2.0</td>\n",
              "      <td>2.0</td>\n",
              "      <td>2.0</td>\n",
              "      <td>2.0</td>\n",
              "      <td>2.0</td>\n",
              "      <td>2.0</td>\n",
              "      <td>1.0</td>\n",
              "      <td>1.0</td>\n",
              "      <td>2.0</td>\n",
              "      <td>2.0</td>\n",
              "      <td>2.0</td>\n",
              "      <td>2.0</td>\n",
              "      <td>2.0</td>\n",
              "      <td>2.0</td>\n",
              "      <td>2.0</td>\n",
              "      <td>1.0</td>\n",
              "      <td>None</td>\n",
              "    </tr>\n",
              "    <tr>\n",
              "      <th>4</th>\n",
              "      <td>30698</td>\n",
              "      <td>2019-01-15</td>\n",
              "      <td>12</td>\n",
              "      <td>120033</td>\n",
              "      <td>2019-01-10</td>\n",
              "      <td>1987-01-29</td>\n",
              "      <td>F</td>\n",
              "      <td>4.0</td>\n",
              "      <td>4.0</td>\n",
              "      <td>120033.0</td>\n",
              "      <td>1.0</td>\n",
              "      <td>2.0</td>\n",
              "      <td>1.0</td>\n",
              "      <td>1.0</td>\n",
              "      <td>2.0</td>\n",
              "      <td>1.0</td>\n",
              "      <td>1.0</td>\n",
              "      <td>2.0</td>\n",
              "      <td>2.0</td>\n",
              "      <td>2.0</td>\n",
              "      <td>2.0</td>\n",
              "      <td>2.0</td>\n",
              "      <td>1.0</td>\n",
              "      <td>1.0</td>\n",
              "      <td>2.0</td>\n",
              "      <td>2.0</td>\n",
              "      <td>2.0</td>\n",
              "      <td>2.0</td>\n",
              "      <td>2.0</td>\n",
              "      <td>2.0</td>\n",
              "      <td>2.0</td>\n",
              "      <td>NaN</td>\n",
              "      <td>None</td>\n",
              "    </tr>\n",
              "    <tr>\n",
              "      <th>...</th>\n",
              "      <td>...</td>\n",
              "      <td>...</td>\n",
              "      <td>...</td>\n",
              "      <td>...</td>\n",
              "      <td>...</td>\n",
              "      <td>...</td>\n",
              "      <td>...</td>\n",
              "      <td>...</td>\n",
              "      <td>...</td>\n",
              "      <td>...</td>\n",
              "      <td>...</td>\n",
              "      <td>...</td>\n",
              "      <td>...</td>\n",
              "      <td>...</td>\n",
              "      <td>...</td>\n",
              "      <td>...</td>\n",
              "      <td>...</td>\n",
              "      <td>...</td>\n",
              "      <td>...</td>\n",
              "      <td>...</td>\n",
              "      <td>...</td>\n",
              "      <td>...</td>\n",
              "      <td>...</td>\n",
              "      <td>...</td>\n",
              "      <td>...</td>\n",
              "      <td>...</td>\n",
              "      <td>...</td>\n",
              "      <td>...</td>\n",
              "      <td>...</td>\n",
              "      <td>...</td>\n",
              "      <td>...</td>\n",
              "      <td>...</td>\n",
              "      <td>...</td>\n",
              "    </tr>\n",
              "    <tr>\n",
              "      <th>2069119</th>\n",
              "      <td>2671516</td>\n",
              "      <td>2019-09-18</td>\n",
              "      <td>17</td>\n",
              "      <td>171610</td>\n",
              "      <td>2019-09-13</td>\n",
              "      <td>1977-07-24</td>\n",
              "      <td>M</td>\n",
              "      <td>4.0</td>\n",
              "      <td>6.0</td>\n",
              "      <td>171845.0</td>\n",
              "      <td>NaN</td>\n",
              "      <td>NaN</td>\n",
              "      <td>NaN</td>\n",
              "      <td>NaN</td>\n",
              "      <td>NaN</td>\n",
              "      <td>NaN</td>\n",
              "      <td>NaN</td>\n",
              "      <td>NaN</td>\n",
              "      <td>NaN</td>\n",
              "      <td>NaN</td>\n",
              "      <td>NaN</td>\n",
              "      <td>NaN</td>\n",
              "      <td>NaN</td>\n",
              "      <td>NaN</td>\n",
              "      <td>NaN</td>\n",
              "      <td>NaN</td>\n",
              "      <td>NaN</td>\n",
              "      <td>NaN</td>\n",
              "      <td>NaN</td>\n",
              "      <td>NaN</td>\n",
              "      <td>NaN</td>\n",
              "      <td>NaN</td>\n",
              "      <td>None</td>\n",
              "    </tr>\n",
              "    <tr>\n",
              "      <th>2069120</th>\n",
              "      <td>2255009</td>\n",
              "      <td>2019-08-29</td>\n",
              "      <td>17</td>\n",
              "      <td>170950</td>\n",
              "      <td>2019-08-26</td>\n",
              "      <td>1982-01-19</td>\n",
              "      <td>F</td>\n",
              "      <td>4.0</td>\n",
              "      <td>6.0</td>\n",
              "      <td>170950.0</td>\n",
              "      <td>1.0</td>\n",
              "      <td>1.0</td>\n",
              "      <td>1.0</td>\n",
              "      <td>2.0</td>\n",
              "      <td>1.0</td>\n",
              "      <td>1.0</td>\n",
              "      <td>2.0</td>\n",
              "      <td>1.0</td>\n",
              "      <td>2.0</td>\n",
              "      <td>2.0</td>\n",
              "      <td>2.0</td>\n",
              "      <td>2.0</td>\n",
              "      <td>2.0</td>\n",
              "      <td>2.0</td>\n",
              "      <td>2.0</td>\n",
              "      <td>2.0</td>\n",
              "      <td>2.0</td>\n",
              "      <td>2.0</td>\n",
              "      <td>2.0</td>\n",
              "      <td>2.0</td>\n",
              "      <td>2.0</td>\n",
              "      <td>NaN</td>\n",
              "      <td>None</td>\n",
              "    </tr>\n",
              "    <tr>\n",
              "      <th>2069121</th>\n",
              "      <td>2342012</td>\n",
              "      <td>2019-09-27</td>\n",
              "      <td>17</td>\n",
              "      <td>170210</td>\n",
              "      <td>2019-09-15</td>\n",
              "      <td>1997-08-16</td>\n",
              "      <td>F</td>\n",
              "      <td>4.0</td>\n",
              "      <td>6.0</td>\n",
              "      <td>170210.0</td>\n",
              "      <td>1.0</td>\n",
              "      <td>1.0</td>\n",
              "      <td>2.0</td>\n",
              "      <td>2.0</td>\n",
              "      <td>1.0</td>\n",
              "      <td>2.0</td>\n",
              "      <td>2.0</td>\n",
              "      <td>2.0</td>\n",
              "      <td>2.0</td>\n",
              "      <td>2.0</td>\n",
              "      <td>2.0</td>\n",
              "      <td>2.0</td>\n",
              "      <td>2.0</td>\n",
              "      <td>2.0</td>\n",
              "      <td>2.0</td>\n",
              "      <td>2.0</td>\n",
              "      <td>2.0</td>\n",
              "      <td>2.0</td>\n",
              "      <td>2.0</td>\n",
              "      <td>2.0</td>\n",
              "      <td>2.0</td>\n",
              "      <td>1.0</td>\n",
              "      <td>None</td>\n",
              "    </tr>\n",
              "    <tr>\n",
              "      <th>2069122</th>\n",
              "      <td>2671512</td>\n",
              "      <td>2019-09-17</td>\n",
              "      <td>17</td>\n",
              "      <td>171610</td>\n",
              "      <td>2019-09-09</td>\n",
              "      <td>1973-04-11</td>\n",
              "      <td>F</td>\n",
              "      <td>4.0</td>\n",
              "      <td>6.0</td>\n",
              "      <td>171610.0</td>\n",
              "      <td>NaN</td>\n",
              "      <td>NaN</td>\n",
              "      <td>NaN</td>\n",
              "      <td>NaN</td>\n",
              "      <td>NaN</td>\n",
              "      <td>NaN</td>\n",
              "      <td>NaN</td>\n",
              "      <td>NaN</td>\n",
              "      <td>NaN</td>\n",
              "      <td>NaN</td>\n",
              "      <td>NaN</td>\n",
              "      <td>NaN</td>\n",
              "      <td>NaN</td>\n",
              "      <td>NaN</td>\n",
              "      <td>NaN</td>\n",
              "      <td>NaN</td>\n",
              "      <td>NaN</td>\n",
              "      <td>NaN</td>\n",
              "      <td>NaN</td>\n",
              "      <td>NaN</td>\n",
              "      <td>NaN</td>\n",
              "      <td>NaN</td>\n",
              "      <td>None</td>\n",
              "    </tr>\n",
              "    <tr>\n",
              "      <th>2069123</th>\n",
              "      <td>2691158</td>\n",
              "      <td>2019-09-18</td>\n",
              "      <td>17</td>\n",
              "      <td>170240</td>\n",
              "      <td>2019-09-17</td>\n",
              "      <td>2004-04-02</td>\n",
              "      <td>F</td>\n",
              "      <td>4.0</td>\n",
              "      <td>5.0</td>\n",
              "      <td>170240.0</td>\n",
              "      <td>1.0</td>\n",
              "      <td>1.0</td>\n",
              "      <td>1.0</td>\n",
              "      <td>2.0</td>\n",
              "      <td>2.0</td>\n",
              "      <td>2.0</td>\n",
              "      <td>2.0</td>\n",
              "      <td>2.0</td>\n",
              "      <td>2.0</td>\n",
              "      <td>2.0</td>\n",
              "      <td>2.0</td>\n",
              "      <td>2.0</td>\n",
              "      <td>2.0</td>\n",
              "      <td>2.0</td>\n",
              "      <td>2.0</td>\n",
              "      <td>2.0</td>\n",
              "      <td>2.0</td>\n",
              "      <td>2.0</td>\n",
              "      <td>2.0</td>\n",
              "      <td>2.0</td>\n",
              "      <td>2.0</td>\n",
              "      <td>NaN</td>\n",
              "      <td>None</td>\n",
              "    </tr>\n",
              "  </tbody>\n",
              "</table>\n",
              "<p>2067306 rows × 33 columns</p>\n",
              "</div>"
            ],
            "text/plain": [
              "         nu_notific  dt_notific  sg_uf_not  ...  auto_imune evolucao dt_obito\n",
              "0             48694  2019-01-04         12  ...         2.0      1.0     None\n",
              "1             46973  2019-04-10         12  ...         2.0      1.0     None\n",
              "2             50975  2019-09-23         12  ...         2.0      1.0     None\n",
              "3             30658  2019-01-05         12  ...         2.0      1.0     None\n",
              "4             30698  2019-01-15         12  ...         2.0      NaN     None\n",
              "...             ...         ...        ...  ...         ...      ...      ...\n",
              "2069119     2671516  2019-09-18         17  ...         NaN      NaN     None\n",
              "2069120     2255009  2019-08-29         17  ...         2.0      NaN     None\n",
              "2069121     2342012  2019-09-27         17  ...         2.0      1.0     None\n",
              "2069122     2671512  2019-09-17         17  ...         NaN      NaN     None\n",
              "2069123     2691158  2019-09-18         17  ...         2.0      NaN     None\n",
              "\n",
              "[2067306 rows x 33 columns]"
            ]
          },
          "metadata": {
            "tags": []
          },
          "execution_count": 7
        }
      ]
    },
    {
      "cell_type": "markdown",
      "metadata": {
        "id": "gIzMFmHdWXGy",
        "colab_type": "text"
      },
      "source": [
        "# Gráfico de Quantidade de Casos por Gênero"
      ]
    },
    {
      "cell_type": "code",
      "metadata": {
        "id": "oTnbPHeKOmAg",
        "colab_type": "code",
        "outputId": "3009dbb6-02d8-4ac6-98bf-44ec61a57e73",
        "colab": {
          "base_uri": "https://localhost:8080/",
          "height": 421
        }
      },
      "source": [
        "contagem_sexo = df[\"cs_sexo\"].value_counts().to_frame().reset_index()\n",
        "contagem_sexo.columns = [\"Sexo\", \"Total\"]\n",
        "\n",
        "plt.figure(figsize=(10,6))\n",
        "g = sns.barplot(x='Sexo', y='Total', data=contagem_sexo)\n",
        "\n",
        "for p in g.patches:\n",
        "  b=p.get_bbox()\n",
        "  g.annotate('{:.0f}'.format(p.get_height()), (p.get_x()+ 0.3, p.get_height()+10000))\n",
        "\n",
        "g.set_title('Quantidade de Casos por Gênero')\n",
        "g.set_xlabel('Gênero')\n",
        "g.set_xticklabels(['Feminino', 'Masculino', 'Ignorados'])\n",
        "g.set_ylabel('Quantidade')\n",
        "\n",
        "\n"
      ],
      "execution_count": 8,
      "outputs": [
        {
          "output_type": "execute_result",
          "data": {
            "text/plain": [
              "Text(0, 0.5, 'Quantidade')"
            ]
          },
          "metadata": {
            "tags": []
          },
          "execution_count": 8
        },
        {
          "output_type": "display_data",
          "data": {
            "image/png": "[encoded data removed]",
            "text/plain": [
              "<Figure size 720x432 with 1 Axes>"
            ]
          },
          "metadata": {
            "tags": [],
            "needs_background": "light"
          }
        }
      ]
    },
    {
      "cell_type": "code",
      "metadata": {
        "id": "mwKappUPQ9wk",
        "colab_type": "code",
        "colab": {}
      },
      "source": [
        ""
      ],
      "execution_count": 0,
      "outputs": []
    },
    {
      "cell_type": "markdown",
      "metadata": {
        "id": "uAZSBHPPWmyp",
        "colab_type": "text"
      },
      "source": [
        "# Qual período do ano teve mais casos mortais de dengue:"
      ]
    },
    {
      "cell_type": "code",
      "metadata": {
        "id": "TR11fjMCQ2Or",
        "colab_type": "code",
        "outputId": "d7d2e831-59ba-4274-d10d-9e93df712843",
        "colab": {
          "base_uri": "https://localhost:8080/",
          "height": 475
        }
      },
      "source": [
        "#Tratamento de Dados\n",
        "\n",
        "obitos = pd.DataFrame(df, columns= ['cs_sexo', 'dt_obito'])\n",
        "quantidade_obitos_correto = obitos.apply(lambda x: x.replace('None', np.nan))\n",
        "quantidade_obitos_correto.dropna(inplace=True)\n",
        "quantidade_obitos_correto.reset_index()\n",
        "quantidade_obitos_correto['dt_obito'] = pd.to_datetime(quantidade_obitos_correto['dt_obito'], format='%Y-%m-%d')\n",
        "quantidade_obitos_correto['mes_obito'] = quantidade_obitos_correto['dt_obito'].dt.strftime('%B')\n",
        "\n",
        "#Final do Tratamento\n",
        "\n",
        "#Inicio Plot\n",
        "\n",
        "ordem = [\"January\", \"February\",\"March\",\"April\",\"May\",\"June\",\"July\", \"August\", \"September\", \"October\"]\n",
        "\n",
        "plt.figure(figsize=(15,7))\n",
        "g = sns.countplot(x=\"mes_obito\", order=ordem ,data=quantidade_obitos_correto)\n",
        "\n",
        "for p in g.patches:\n",
        "  b=p.get_bbox()\n",
        "  g.annotate('{:.0f}'.format(p.get_height()), (p.get_x()+ 0.3, p.get_height()+8))\n",
        "\n",
        "g.set_xticklabels([\"Janeiro\",\"Fevereiro\",\"Março\",\"Abril\",\"Maio\",\"Junho\",\"Julho\",\"Agosto\",\"Setembro\",\"Outubro\"])\n",
        "g.set_title('Quantidade de mortes por mês')\n",
        "g.set_ylabel(\"Quantidade\")\n",
        "g.set_xlabel(\"Mês do Óbito\")\n",
        "\n",
        "#Final plot\n",
        "\n",
        "\n"
      ],
      "execution_count": 9,
      "outputs": [
        {
          "output_type": "execute_result",
          "data": {
            "text/plain": [
              "Text(0.5, 0, 'Mês do Óbito')"
            ]
          },
          "metadata": {
            "tags": []
          },
          "execution_count": 9
        },
        {
          "output_type": "display_data",
          "data": {
            "image/png": "[encoded data removed]",
            "text/plain": [
              "<Figure size 1080x504 with 1 Axes>"
            ]
          },
          "metadata": {
            "tags": [],
            "needs_background": "light"
          }
        }
      ]
    },
    {
      "cell_type": "code",
      "metadata": {
        "id": "JXUzUeXhmhtE",
        "colab_type": "code",
        "outputId": "59b85629-14cd-464d-f5e2-81560586f209",
        "colab": {
          "base_uri": "https://localhost:8080/",
          "height": 419
        }
      },
      "source": [
        "obitos = pd.DataFrame(df, columns= ['cs_sexo', 'dt_obito'])\n",
        "quantidade_obitos_correto = obitos.apply(lambda x: x.replace('None', np.nan))\n",
        "quantidade_obitos_correto.dropna(inplace=True)\n",
        "quantidade_obitos_correto.columns = ['Sexo', 'Data_Obito']\n",
        "quantidade_obitos_correto.reset_index()"
      ],
      "execution_count": 10,
      "outputs": [
        {
          "output_type": "execute_result",
          "data": {
            "text/html": [
              "<div>\n",
              "<style scoped>\n",
              "    .dataframe tbody tr th:only-of-type {\n",
              "        vertical-align: middle;\n",
              "    }\n",
              "\n",
              "    .dataframe tbody tr th {\n",
              "        vertical-align: top;\n",
              "    }\n",
              "\n",
              "    .dataframe thead th {\n",
              "        text-align: right;\n",
              "    }\n",
              "</style>\n",
              "<table border=\"1\" class=\"dataframe\">\n",
              "  <thead>\n",
              "    <tr style=\"text-align: right;\">\n",
              "      <th></th>\n",
              "      <th>index</th>\n",
              "      <th>Sexo</th>\n",
              "      <th>Data_Obito</th>\n",
              "    </tr>\n",
              "  </thead>\n",
              "  <tbody>\n",
              "    <tr>\n",
              "      <th>0</th>\n",
              "      <td>2696</td>\n",
              "      <td>M</td>\n",
              "      <td>2019-08-05</td>\n",
              "    </tr>\n",
              "    <tr>\n",
              "      <th>1</th>\n",
              "      <td>3473</td>\n",
              "      <td>M</td>\n",
              "      <td>2019-04-28</td>\n",
              "    </tr>\n",
              "    <tr>\n",
              "      <th>2</th>\n",
              "      <td>5397</td>\n",
              "      <td>M</td>\n",
              "      <td>2019-02-26</td>\n",
              "    </tr>\n",
              "    <tr>\n",
              "      <th>3</th>\n",
              "      <td>5596</td>\n",
              "      <td>M</td>\n",
              "      <td>2019-04-20</td>\n",
              "    </tr>\n",
              "    <tr>\n",
              "      <th>4</th>\n",
              "      <td>9255</td>\n",
              "      <td>M</td>\n",
              "      <td>2019-08-01</td>\n",
              "    </tr>\n",
              "    <tr>\n",
              "      <th>...</th>\n",
              "      <td>...</td>\n",
              "      <td>...</td>\n",
              "      <td>...</td>\n",
              "    </tr>\n",
              "    <tr>\n",
              "      <th>2521</th>\n",
              "      <td>2067074</td>\n",
              "      <td>F</td>\n",
              "      <td>2019-05-16</td>\n",
              "    </tr>\n",
              "    <tr>\n",
              "      <th>2522</th>\n",
              "      <td>2067107</td>\n",
              "      <td>F</td>\n",
              "      <td>2019-05-21</td>\n",
              "    </tr>\n",
              "    <tr>\n",
              "      <th>2523</th>\n",
              "      <td>2067978</td>\n",
              "      <td>F</td>\n",
              "      <td>2019-06-22</td>\n",
              "    </tr>\n",
              "    <tr>\n",
              "      <th>2524</th>\n",
              "      <td>2068122</td>\n",
              "      <td>M</td>\n",
              "      <td>2019-06-13</td>\n",
              "    </tr>\n",
              "    <tr>\n",
              "      <th>2525</th>\n",
              "      <td>2068141</td>\n",
              "      <td>F</td>\n",
              "      <td>2019-06-24</td>\n",
              "    </tr>\n",
              "  </tbody>\n",
              "</table>\n",
              "<p>2526 rows × 3 columns</p>\n",
              "</div>"
            ],
            "text/plain": [
              "        index Sexo  Data_Obito\n",
              "0        2696    M  2019-08-05\n",
              "1        3473    M  2019-04-28\n",
              "2        5397    M  2019-02-26\n",
              "3        5596    M  2019-04-20\n",
              "4        9255    M  2019-08-01\n",
              "...       ...  ...         ...\n",
              "2521  2067074    F  2019-05-16\n",
              "2522  2067107    F  2019-05-21\n",
              "2523  2067978    F  2019-06-22\n",
              "2524  2068122    M  2019-06-13\n",
              "2525  2068141    F  2019-06-24\n",
              "\n",
              "[2526 rows x 3 columns]"
            ]
          },
          "metadata": {
            "tags": []
          },
          "execution_count": 10
        }
      ]
    },
    {
      "cell_type": "markdown",
      "metadata": {
        "id": "pK0bOTfo3HE0",
        "colab_type": "text"
      },
      "source": [
        "# Qual período do ano teve mais casos de dengue:"
      ]
    },
    {
      "cell_type": "code",
      "metadata": {
        "id": "X6LyixD41TjD",
        "colab_type": "code",
        "outputId": "c9feef0f-22f3-4909-c340-9b86683c0937",
        "colab": {
          "base_uri": "https://localhost:8080/",
          "height": 475
        }
      },
      "source": [
        "#Tratamento de Dados\n",
        "notificacoes = pd.DataFrame(df, columns=['dt_notific','nu_notific'])\n",
        "notificacoes.reset_index()\n",
        "notificacoes['dt_notific'] = pd.to_datetime(notificacoes['dt_notific'], format='%Y-%m-%d')\n",
        "notificacoes['mes_notific'] = notificacoes['dt_notific'].dt.strftime('%B')\n",
        "\n",
        "#Fianl Tratamento de dados\n",
        "\n",
        "#Inicio Plot\n",
        "ordem = [\"January\", \"February\",\"March\",\"April\",\"May\",\"June\",\"July\", \"August\", \"September\", \"October\"]\n",
        "\n",
        "plt.figure(figsize=(15,7))\n",
        "g = sns.countplot(x=\"mes_notific\", order=ordem ,data=notificacoes)\n",
        "\n",
        "for p in g.patches:\n",
        "  b=p.get_bbox()\n",
        "  g.annotate('{:.0f}'.format(p.get_height()), (p.get_x()+ 0.15, p.get_height()+8000))\n",
        "\n",
        "g.set_xticklabels([\"Janeiro\",\"Fevereiro\",\"Março\",\"Abril\",\"Maio\",\"Junho\",\"Julho\",\"Agosto\",\"Setembro\",\"Outubro\"])\n",
        "g.set_title('Quantidade de casos por mês')\n",
        "g.set_ylabel(\"Quantidade\")\n",
        "g.set_xlabel(\"Mês do Caso\")\n",
        "\n",
        "#Final Plot\n"
      ],
      "execution_count": 11,
      "outputs": [
        {
          "output_type": "execute_result",
          "data": {
            "text/plain": [
              "Text(0.5, 0, 'Mês do Caso')"
            ]
          },
          "metadata": {
            "tags": []
          },
          "execution_count": 11
        },
        {
          "output_type": "display_data",
          "data": {
            "image/png": "[encoded data removed]",
            "text/plain": [
              "<Figure size 1080x504 with 1 Axes>"
            ]
          },
          "metadata": {
            "tags": [],
            "needs_background": "light"
          }
        }
      ]
    },
    {
      "cell_type": "markdown",
      "metadata": {
        "id": "syBI4oc_-UsC",
        "colab_type": "text"
      },
      "source": [
        "# Período do ano onde houve mais casos de dengue com caso de morte"
      ]
    },
    {
      "cell_type": "code",
      "metadata": {
        "id": "cLTYM9oF-T12",
        "colab_type": "code",
        "outputId": "8aa59079-dc23-44cb-ac62-c224742e4df1",
        "colab": {
          "base_uri": "https://localhost:8080/",
          "height": 0
        }
      },
      "source": [
        "#0 -> Não\n",
        "#1 -> Sim\n",
        "\n",
        "casos_e_mortes = pd.DataFrame(df, columns=['dt_notific', 'dt_obito'])\n",
        "\n",
        "casos_e_mortes = casos_e_mortes.apply(lambda x: x.replace('None', np.nan))\n",
        "\n",
        "casos_e_mortes['dt_notific'] = pd.to_datetime(casos_e_mortes['dt_notific'], format='%Y-%m-%d')\n",
        "casos_e_mortes['dt_obito'] = pd.to_datetime(casos_e_mortes['dt_obito'], format='%Y-%m-%d')\n",
        "  \n",
        "casos_e_mortes['mes_notific'] = casos_e_mortes['dt_notific'].dt.strftime('%m')\n",
        "casos_e_mortes['mes_obito'] = casos_e_mortes['dt_obito'].dt.strftime('%m')\n",
        "\n",
        "casos_e_mortes\n"
      ],
      "execution_count": 12,
      "outputs": [
        {
          "output_type": "execute_result",
          "data": {
            "text/html": [
              "<div>\n",
              "<style scoped>\n",
              "    .dataframe tbody tr th:only-of-type {\n",
              "        vertical-align: middle;\n",
              "    }\n",
              "\n",
              "    .dataframe tbody tr th {\n",
              "        vertical-align: top;\n",
              "    }\n",
              "\n",
              "    .dataframe thead th {\n",
              "        text-align: right;\n",
              "    }\n",
              "</style>\n",
              "<table border=\"1\" class=\"dataframe\">\n",
              "  <thead>\n",
              "    <tr style=\"text-align: right;\">\n",
              "      <th></th>\n",
              "      <th>dt_notific</th>\n",
              "      <th>dt_obito</th>\n",
              "      <th>mes_notific</th>\n",
              "      <th>mes_obito</th>\n",
              "    </tr>\n",
              "  </thead>\n",
              "  <tbody>\n",
              "    <tr>\n",
              "      <th>0</th>\n",
              "      <td>2019-01-04</td>\n",
              "      <td>NaT</td>\n",
              "      <td>01</td>\n",
              "      <td>NaN</td>\n",
              "    </tr>\n",
              "    <tr>\n",
              "      <th>1</th>\n",
              "      <td>2019-04-10</td>\n",
              "      <td>NaT</td>\n",
              "      <td>04</td>\n",
              "      <td>NaN</td>\n",
              "    </tr>\n",
              "    <tr>\n",
              "      <th>2</th>\n",
              "      <td>2019-09-23</td>\n",
              "      <td>NaT</td>\n",
              "      <td>09</td>\n",
              "      <td>NaN</td>\n",
              "    </tr>\n",
              "    <tr>\n",
              "      <th>3</th>\n",
              "      <td>2019-01-05</td>\n",
              "      <td>NaT</td>\n",
              "      <td>01</td>\n",
              "      <td>NaN</td>\n",
              "    </tr>\n",
              "    <tr>\n",
              "      <th>4</th>\n",
              "      <td>2019-01-15</td>\n",
              "      <td>NaT</td>\n",
              "      <td>01</td>\n",
              "      <td>NaN</td>\n",
              "    </tr>\n",
              "    <tr>\n",
              "      <th>...</th>\n",
              "      <td>...</td>\n",
              "      <td>...</td>\n",
              "      <td>...</td>\n",
              "      <td>...</td>\n",
              "    </tr>\n",
              "    <tr>\n",
              "      <th>2069119</th>\n",
              "      <td>2019-09-18</td>\n",
              "      <td>NaT</td>\n",
              "      <td>09</td>\n",
              "      <td>NaN</td>\n",
              "    </tr>\n",
              "    <tr>\n",
              "      <th>2069120</th>\n",
              "      <td>2019-08-29</td>\n",
              "      <td>NaT</td>\n",
              "      <td>08</td>\n",
              "      <td>NaN</td>\n",
              "    </tr>\n",
              "    <tr>\n",
              "      <th>2069121</th>\n",
              "      <td>2019-09-27</td>\n",
              "      <td>NaT</td>\n",
              "      <td>09</td>\n",
              "      <td>NaN</td>\n",
              "    </tr>\n",
              "    <tr>\n",
              "      <th>2069122</th>\n",
              "      <td>2019-09-17</td>\n",
              "      <td>NaT</td>\n",
              "      <td>09</td>\n",
              "      <td>NaN</td>\n",
              "    </tr>\n",
              "    <tr>\n",
              "      <th>2069123</th>\n",
              "      <td>2019-09-18</td>\n",
              "      <td>NaT</td>\n",
              "      <td>09</td>\n",
              "      <td>NaN</td>\n",
              "    </tr>\n",
              "  </tbody>\n",
              "</table>\n",
              "<p>2067306 rows × 4 columns</p>\n",
              "</div>"
            ],
            "text/plain": [
              "        dt_notific dt_obito mes_notific mes_obito\n",
              "0       2019-01-04      NaT          01       NaN\n",
              "1       2019-04-10      NaT          04       NaN\n",
              "2       2019-09-23      NaT          09       NaN\n",
              "3       2019-01-05      NaT          01       NaN\n",
              "4       2019-01-15      NaT          01       NaN\n",
              "...            ...      ...         ...       ...\n",
              "2069119 2019-09-18      NaT          09       NaN\n",
              "2069120 2019-08-29      NaT          08       NaN\n",
              "2069121 2019-09-27      NaT          09       NaN\n",
              "2069122 2019-09-17      NaT          09       NaN\n",
              "2069123 2019-09-18      NaT          09       NaN\n",
              "\n",
              "[2067306 rows x 4 columns]"
            ]
          },
          "metadata": {
            "tags": []
          },
          "execution_count": 12
        }
      ]
    },
    {
      "cell_type": "code",
      "metadata": {
        "id": "jCnembVeNFUl",
        "colab_type": "code",
        "outputId": "b2e88185-7f34-46ac-bd27-7c557067400e",
        "colab": {
          "base_uri": "https://localhost:8080/",
          "height": 0
        }
      },
      "source": [
        "casos_e_mortes['morreu'] = 0\n",
        "\n",
        "casos_e_mortes.loc[[2696, 3473, 5397, 5596, 9255, 9331, 9425, 12083, 12290, \n",
        "14594, 14616, 15274, 15790, 16024, 16230, 16629, 16820, \n",
        "16867, 16922, 17667, 17730, 22027, 22093, 22477, 23039, \n",
        "23165, 23284, 23907, 24400, 26725, 26816, 27941, 29361, \n",
        "30414, 31241, 31245, 31250, 32258, 33355, 34233, 34346, \n",
        "36001, 36072, 36924, 36961, 37055, 37247, 37914, 39884, \n",
        "40221, 41494, 41578, 41593, 41652, 42939, 45161, 45204, \n",
        "45296, 46412, 47813, 49321, 50590, 50688, 51129, 51452, \n",
        "51891, 52112, 53933, 56369, 57333, 59479, 62898, 63576, \n",
        "63718, 64363, 64557, 64697, 68165, 68431, 69002, 69271, \n",
        "70666, 73750, 74344, 75598, 75744, 75977, 76292, 76293, \n",
        "76404, 76425, 76688, 76859, 77924, 78693, 79388, 79473, \n",
        "79570, 80058, 80314, 80823, 80865, 82002, 82028, 82681, \n",
        "82914, 83750, 84128, 85491, 86179, 86702, 87461, 87825, \n",
        "88021, 88682, 89847, 90265, 91268, 91642, 92395, 93582, \n",
        "93816, 93997, 94326, 94832, 95674, 96674, 97674, 98144, \n",
        "98911, 101142, 101249, 103631, 104278, 104913, 105291, \n",
        "106484, 107421, 107612, 109926, 110102, 110483, 110680, \n",
        "112689, 113036, 113089, 113175, 113353, 113573, 114383, \n",
        "114384, 114937, 115208, 115307, 116941, 117220, 117720, \n",
        "117764, 118561, 118569, 118672, 118912, 119305, 119457, \n",
        "119525, 119773, 120157, 120337, 121766, 121783, 122380, \n",
        "122517, 122538, 122689, 122705, 122954, 123332, 123365, \n",
        "124017, 124295, 124553, 124642, 126470, 126537, 126542, \n",
        "126812, 126920, 127849, 128455, 129382, 129569, 130119, \n",
        "131090, 131132, 131356, 131371, 131793, 131796, 131802, \n",
        "131803, 132119, 132158, 133180, 133290, 133405, 133946, \n",
        "134845, 134857, 135101, 135949, 135977, 136268, 136966, \n",
        "137397, 137453, 137664, 138254, 138832, 139194, 139524, \n",
        "139830, 140444, 140592, 140862, 141037, 141287, 141430, \n",
        "143934, 143959, 145060, 145687, 146282, 146403, 146654, \n",
        "146886, 146951, 147098, 147616, 147788, 147830, 147977, \n",
        "147984, 148091, 148272, 148364, 148681, 148706, 148796, \n",
        "149563, 150051, 150335, 150523, 151464, 151694, 151905, \n",
        "152009, 152351, 152583, 152687, 152716, 153752, 154978, \n",
        "155181, 155302, 155839, 155859, 156482, 156995, 157192, \n",
        "157613, 158795, 160449, 160661, 160781, 160805, 161226, \n",
        "161241, 161275, 161624, 161680, 162233, 162439, 162471, \n",
        "162560, 162634, 162867, 163327, 165696, 165856, 166174, \n",
        "166317, 167781, 168016, 168194, 168479, 168505, 168603, \n",
        "168973, 169097, 170404, 171925, 172093, 172139, 172306, \n",
        "172309, 172341, 172801, 172825, 173532, 174224, 174386, \n",
        "174444, 174518, 174681, 176593, 176624, 176648, 177949, \n",
        "178624, 178711, 180432, 180996, 181828, 181908, 182032, \n",
        "182081, 182752, 182769, 182985, 183020, 183045, 183070, \n",
        "183304, 183510, 183755, 183772, 183825, 184116, 184331, \n",
        "184417, 184536, 184582, 184647, 184669, 184687, 184739, \n",
        "184760, 184783, 184810, 184882, 185975, 186169, 186261, \n",
        "186333, 186901, 188282, 188497, 189021, 190364, 190610, \n",
        "192561, 192660, 192890, 194111, 194503, 194697, 194898, \n",
        "195022, 195044, 195741, 195914, 196035, 196720, 197291, \n",
        "197435, 198505, 198707, 199517, 200214, 201164, 202811, \n",
        "204711, 205103, 205595, 206274, 206605, 208838, 209477, \n",
        "211061, 211602, 212273, 213361, 214394, 214536, 215691, \n",
        "216902, 218460, 222463, 222957, 224793, 225285, 225838, \n",
        "226858, 227179, 227203, 227267, 230487, 230761, 231894, \n",
        "234400, 236714, 237103, 237956, 237980, 239029, 239299, \n",
        "242404, 242833, 243014, 245033, 245080, 246333, 250575, \n",
        "251246, 252222, 252446, 254529, 254706, 257117, 257452, \n",
        "260474, 260488, 260589, 260592, 260874, 261197, 261698, \n",
        "262010, 262744, 264300, 264609, 266305, 266500, 267821, \n",
        "268048, 268708, 269553, 270384, 271184, 272778, 274136, \n",
        "274542, 274543, 275050, 275095, 277176, 277358, 277434, \n",
        "278091, 278360, 278583, 279448, 279680, 280896, 281451, \n",
        "281645, 282617, 282647, 282802, 282951, 284952, 285485, \n",
        "286369, 286382, 286702, 286830, 288553, 288605, 288723, \n",
        "290268, 290540, 290938, 291001, 291668, 292764, 292861, \n",
        "293969, 294626, 295309, 296006, 296132, 296581, 299302, \n",
        "299428, 300485, 300504, 301557, 301831, 302512, 302953, \n",
        "303167, 303845, 304205, 304785, 304870, 305427, 305685, \n",
        "306403, 307307, 307597, 308300, 308619, 308642, 309819, \n",
        "311190, 312171, 313552, 314168, 314606, 314930, 316724, \n",
        "317263, 317651, 317818, 319158, 319162, 319578, 319835, \n",
        "319934, 321378, 321811, 322230, 322546, 322687, 322890, \n",
        "324905, 325008, 325247, 326526, 326896, 328091, 328609, \n",
        "328742, 328822, 331109, 331190, 331353, 332010, 332441, \n",
        "332671, 333456, 333644, 334058, 334114, 335173, 335243, \n",
        "335394, 335627, 335854, 337726, 337894, 338448, 339918, \n",
        "341920, 342077, 342782, 342793, 344574, 345097, 345292, \n",
        "345996, 346397, 346982, 348770, 348854, 350347, 351748, \n",
        "352354, 353855, 354063, 354279, 354324, 357072, 358110, \n",
        "358525, 359004, 359025, 360931, 361319, 361709, 362926, \n",
        "363178, 363511, 363977, 365290, 365845, 366892, 366994, \n",
        "367642, 367751, 368005, 368173, 368413, 368522, 368736, \n",
        "370282, 370599, 370929, 371795, 373181, 373270, 373865, \n",
        "374731, 375282, 377179, 377194, 377232, 378334, 378938, \n",
        "379372, 379695, 380579, 380874, 382510, 383563, 383616, \n",
        "383992, 385556, 386940, 387038, 388593, 389430, 389564, \n",
        "390427, 390689, 390694, 391712, 392864, 393187, 393891, \n",
        "394533, 395289, 395378, 395752, 397242, 398165, 399093, \n",
        "400072, 400088, 400418, 400688, 400932, 400983, 401397, \n",
        "401619, 402257, 402365, 402469, 404033, 404127, 404128, \n",
        "404849, 405241, 405260, 405963, 406352, 406447, 406513, \n",
        "406840, 407036, 407539, 407541, 408784, 410513, 411315, \n",
        "411962, 413127, 414947, 417629, 418380, 420206, 420893, \n",
        "424781, 425348, 427675, 429738, 430748, 432866, 432920, \n",
        "433529, 434173, 434244, 435389, 437676, 438920, 438988, \n",
        "445403, 446391, 447775, 447948, 448071, 449836, 451774, \n",
        "454846, 455357, 455413, 455721, 455799, 460208, 460929, \n",
        "462119, 462250, 463166, 463391, 465666, 466376, 466730, \n",
        "468581, 469501, 470298, 471253, 471602, 477774, 478822, \n",
        "479002, 479049, 481585, 481807, 481870, 483816, 485324, \n",
        "487134, 487333, 487876, 490550, 491576, 492535, 494040, \n",
        "495177, 496239, 496270, 496891, 497728, 498932, 499693, \n",
        "500074, 500810, 503274, 505165, 507687, 509543, 511897, \n",
        "512200, 515370, 515662, 516259, 516658, 518617, 526744, \n",
        "526832, 527270, 530770, 531014, 534736, 535150, 538973, \n",
        "540326, 540915, 541479, 545498, 548431, 548785, 548871, \n",
        "549347, 551594, 555022, 555726, 555942, 556119, 556231, \n",
        "559566, 561057, 562822, 565881, 565910, 567361, 567481, \n",
        "568678, 571898, 573106, 573560, 573613, 575734, 575990, \n",
        "576244, 577615, 580618, 581877, 583361, 584641, 586516, \n",
        "587056, 590361, 590791, 591818, 591915, 592106, 602177, \n",
        "603056, 603153, 603613, 605932, 606757, 607317, 608574, \n",
        "613523, 618413, 618449, 618968, 621041, 621189, 623087, \n",
        "623389, 626091, 626959, 629138, 630739, 636242, 636406, \n",
        "636810, 638786, 638800, 639787, 640378, 640625, 640839, \n",
        "640884, 641347, 642313, 643236, 645111, 653494, 655715, \n",
        "656172, 656361, 656644, 660799, 661248, 663449, 665124, \n",
        "665926, 666051, 667297, 669526, 672363, 674649, 675869, \n",
        "676319, 676715, 677804, 678996, 680636, 681174, 681469, \n",
        "682055, 684283, 684739, 686140, 686223, 686408, 687320, \n",
        "689596, 691956, 693305, 695088, 695599, 696004, 696984, \n",
        "698537, 698795, 699328, 699872, 700199, 702298, 704163, \n",
        "705054, 708131, 709107, 709693, 710782, 710858, 712017, \n",
        "712638, 713445, 714137, 716444, 720060, 722294, 722477, \n",
        "724606, 726964, 728210, 728570, 729500, 733126, 734625, \n",
        "736711, 738062, 741523, 741927, 742033, 742374, 742440, \n",
        "742753, 744335, 744995, 747433, 750653, 751635, 753841, \n",
        "755429, 756568, 757078, 757862, 758356, 759092, 760707, \n",
        "762824, 773251, 775511, 776509, 780628, 781246, 782220, \n",
        "785837, 786830, 787344, 787490, 788132, 788830, 789184, \n",
        "789380, 790341, 794017, 794592, 798992, 799325, 805666, \n",
        "807911, 809832, 810017, 816621, 818013, 818289, 819730, \n",
        "821800, 823718, 825013, 825157, 827401, 828651, 829854, \n",
        "830137, 830733, 832571, 834039, 836038, 837244, 837307, \n",
        "838695, 841103, 841618, 841852, 843205, 844129, 845385, \n",
        "845743, 845836, 847078, 850199, 852583, 853452, 854940, \n",
        "855115, 858039, 859682, 859734, 859788, 860331, 862134, \n",
        "862402, 863397, 865174, 866294, 867480, 868921, 871504, \n",
        "873738, 873802, 873851, 874532, 874910, 875489, 876076, \n",
        "876104, 879509, 879953, 880149, 880942, 881982, 883336, \n",
        "887189, 888444, 889058, 889253, 889994, 890039, 890111, \n",
        "892713, 892844, 892913, 894950, 895475, 897772, 899224, \n",
        "900292, 901921, 903713, 903778, 903824, 904256, 905501, \n",
        "907748, 909234, 909577, 912467, 912913, 913689, 916319, \n",
        "916349, 916684, 921978, 922445, 927511, 928451, 928692, \n",
        "930247, 931478, 932024, 933995, 934885, 935856, 938990, \n",
        "941904, 945660, 946544, 948811, 949430, 950521, 950766, \n",
        "954642, 956726, 957393, 959427, 961446, 961531, 962261, \n",
        "963807, 966538, 969549, 970176, 971735, 971774, 972735, \n",
        "973214, 973421, 973740, 975359, 976499, 977525, 978869, 980793, 981515, 982149, 982976, 983482, 986437, 987160, 987232, 987899, 988478, 991949, 994534, 995147, 995868, 995956, 996620, 998356, 999319, 999708, 1001201, 1002761, 1004402, 1004414, 1004643, 1005287, 1007129, 1007321, 1007943, 1008246, 1008460, 1008651, 1008729, 1009375, 1010604, 1012396, 1013295, 1014987, 1018134, 1018840, 1019540, 1020042, 1020181, 1022371, 1026837, 1027094, 1027343, 1027753, 1028355, 1028361, 1028808, 1029675, 1032277, 1032769, 1033558, 1036956, 1038044, 1038188, 1040187, 1042527, 1043432, 1043912, 1045706, 1046394, 1046674, 1047485, 1049241, 1050274, 1050421, 1051943, 1052070, 1052916, 1053914, 1053946, 1054948, 1054955, 1060843, 1063388, 1064280, 1064385, 1065514, 1067407, 1069379, 1069525, 1069653, 1069736, 1070145, 1071305, 1071941, 1072382, 1073372, 1075980, 1076153, 1076494, 1076586, 1077437, 1078191, 1078574, 1078577, 1078642, 1078904, 1078982, 1079188, 1079223, 1079595, 1080351, 1080975, 1081322, 1082255, 1082774, 1082776, 1082791, 1082993, 1083050, 1083310, 1083418, 1083484, 1083774, 1084027, 1084135, 1085275, 1086015, 1087083, 1087112, 1087143, 1087917, 1088354, 1088473, 1089174, 1090018, 1091190, 1091990, 1092081, 1092131, 1092521, 1092571, 1092724, 1093133, 1093982, 1094212, 1094218, 1094241, 1094379, 1094483, 1094505, 1094555, 1095326, 1095856, 1095862, 1096634, 1096956, 1097241, 1097374, 1097574, 1097713, 1098777, 1100635, 1101117, 1102311, 1102950, 1103186, 1103314, 1103906, 1105070, 1105208, 1105696, 1105893, 1106270, 1107065, 1107455, 1107813, 1108097, 1108283, 1108986, 1109120, 1109436, 1109471, 1110537, 1110698, 1112268, 1112364, 1112713, 1113298, 1113623, 1114047, 1114152, 1114875, 1115078, 1115695, 1115957, 1116699, 1117310, 1118949, 1118985, 1119189, 1119305, 1119528, 1120262, 1120308, 1121365, 1123502, 1123716, 1123956, 1124918, 1126144, 1126451, 1127073, 1127749, 1127905, 1128941, 1129870, 1130004, 1130276, 1130796, 1130954, 1131731, 1131947, 1131977, 1133577, 1134125, 1134234, 1134630, 1134757, 1135076, 1135814, 1136262, 1136534, 1137222, 1137536, 1137707, 1137712, 1137905, 1138995, 1140771, 1140774, 1141755, 1142103, 1142334, 1142666, 1143626, 1144725, 1145731, 1145863, 1146628, 1147311, 1147629, 1148060, 1149192, 1149328, 1149350, 1150469, 1150490, 1152726, 1153297, 1153361, 1154083, 1154182, 1155119, 1155227, 1158048, 1158237, 1158916, 1159963, 1161691, 1162540, 1163693, 1164172, 1164256, 1164595, 1168830, 1168912, 1169148, 1169184, 1169386, 1170008, 1170840, 1171268, 1171749, 1172306, 1173157, 1173523, 1173936, 1175261, 1177362, 1177447, 1178092, 1180760, 1183086, 1184714, 1184963, 1185413, 1185996, 1188512, 1190082, 1190161, 1190676, 1190738, 1190966, 1191609, 1191879, 1192042, 1192201, 1193309, 1193419, 1195015, 1195604, 1195655, 1196334, 1198984, 1199950, 1201254, 1202840, 1204797, 1208064, 1208413, 1208897, 1209560, 1210470, 1210715, 1211058, 1211577, 1211634, 1211731, 1213903, 1214879, 1217208, 1217283, 1218085, 1224107, 1224270, 1224636, 1225866, 1226470, 1226536, 1227873, 1229142, 1230349, 1230515, 1233083, 1233141, 1233559, 1235855, 1237473, 1237793, 1239239, 1239373, 1244422, 1244472, 1244494, 1246077, 1248286, 1249484, 1252294, 1253838, 1254062, 1254583, 1255379, 1255820, 1259074, 1259708, 1259933, 1260091, 1260568, 1261777, 1263427, 1264478, 1264480, 1264730, 1265430, 1265828, 1267532, 1267632, 1267871, 1267984, 1268680, 1269189, 1269739, 1269944, 1270451, 1270639, 1271435, 1273285, 1274015, 1274259, 1274409, 1275040, 1275108, 1276033, 1276506, 1276673, 1278592, 1278702, 1278754, 1279394, 1280924, 1281887, 1281927, 1284408, 1284630, 1289546, 1290344, 1291786, 1292344, 1294661, 1296173, 1296620, 1297351, 1298287, 1298604, 1300926, 1301491, 1302497, 1302592, 1302766, 1302821, 1303066, 1303094, 1305506, 1307108, 1307989, 1308747, 1308913, 1308941, 1309094, 1309502, 1309707, 1310018, 1310271, 1310367, 1310779, 1310959, 1311292, 1314052, 1314279, 1314407, 1315276, 1315847, 1316008, 1316366, 1316767, 1317022, 1317588, 1317832, 1318571, 1318579, 1318880, 1319027, 1319179, 1320450, 1322443, 1323038, 1323105, 1323855, 1324398, 1324783, 1325445, 1325868, 1326487, 1327082, 1327158, 1327688, 1328435, 1328462, 1329802, 1330195, 1331140, 1332205, 1332321, 1333448, 1334138, 1334576, 1335047, 1335463, 1336451, 1337919, 1338082, 1338321, 1338363, 1338590, 1339235, 1339424, 1339689, 1340577, 1340621, 1340718, 1341153, 1341166, 1341271, 1341355, 1341780, 1341910, 1342161, 1342354, 1342713, 1342775, 1342944, 1345116, 1346272, 1346276, 1346467, 1346489, 1347551, 1347930, 1348681, 1348780, 1355381, 1356312, 1356836, 1356866, 1357003, 1357333, 1357765, 1357845, 1357963, 1358610, 1358923, 1359004, 1359277, 1359886, 1360098, 1360509, 1360729, 1361839, 1361930, 1362528, 1362888, 1363115, 1364770, 1364891, 1366551, 1367882, 1367960, 1368273, 1368402, 1368817, 1369165, 1369208, 1370267, 1370520, 1371716, 1372617, 1373223, 1373484, 1374205, 1374321, 1374926, 1378392, 1381644, 1382208, 1382495, 1383399, 1383555, 1383666, 1383713, 1384011, 1384043, 1384322, 1385538, 1385918, 1388785, 1389527, 1390544, 1390686, 1392113, 1392590, 1393692, 1394652, 1394785, 1394827, 1395847, 1396848, 1397266, 1397793, 1399190, 1400470, 1402460, 1402734, 1403279, 1404313, 1406239, 1406780, 1406793, 1408331, 1408333, 1408956, 1409080, 1410026, 1410332, 1411118, 1412443, 1413612, 1413636, 1414578, 1414982, 1415553, 1418046, 1418309, 1420362, 1421659, 1421665, 1421699, 1422783, 1423088, 1423592, 1424918, 1425433, 1426249, 1426595, 1427724, 1429478, 1430452, 1431103, 1434528, 1435220, 1435571, 1435889, 1436278, 1436312, 1437621, 1438448, 1438869, 1439811, 1441215, 1441836, 1441918, 1442059, 1445211, 1445569, 1445862, 1446403, 1446434, 1446613, 1448212, 1448303, 1448417, 1450188, 1450344, 1450567, 1451620, 1452621, 1453007, 1453902, 1454046, 1454847, 1454942, 1455070, 1456694, 1457052, 1457364, 1457382, 1458424, 1458713, 1459056, 1459068, 1459179, 1461412, 1461555, 1461668, 1463014, 1463268, 1463574, 1463622, 1463767, 1465140, 1465520, 1465675, 1466039, 1466111, 1467420, 1467436, 1467619, 1468070, 1468166, 1468852, 1469432, 1470515, 1470942, 1471468, 1472172, 1472263, 1472461, 1473397, 1474925, 1476223, 1477184, 1478223, 1478657, 1479075, 1480208, 1481446, 1481593, 1483024, 1483703, 1483765, 1484029, 1484108, 1484427, 1485326, 1486130, 1487967, 1488792, 1488974, 1489056, 1489407, 1489486, 1490104, 1490113, 1490214, 1490411, 1491226, 1491401, 1491915, 1492381, 1493684, 1493688, 1494769, 1495088, 1495208, 1496678, 1496852, 1497506, 1497546, 1498652, 1499550, 1500266, 1501221, 1501526, 1501727, 1503159, 1504830, 1505118, 1506342, 1506646, 1507289, 1507858, 1508039, 1508306, 1512132, 1512333, 1512542, 1513671, 1514747, 1514847, 1515075, 1515847, 1516562, 1518027, 1518408, 1518714, 1519498, 1519634, 1523305, 1526223, 1529862, 1530207, 1530379, 1530942, 1532088, 1532181, 1532351, 1533344, 1533883, 1534572, 1535532, 1535957, 1536842, 1537779, 1538212, 1540498, 1542981, 1548423, 1548868, 1549658, 1551488, 1552949, 1553092, 1554654, 1554701, 1554926, 1555841, 1556137, 1556292, 1558610, 1558665, 1559205, 1559794, 1560433, 1561115, 1561299, 1562222, 1562426, 1570129, 1570197, 1571382, 1572657, 1574111, 1574551, 1575728, 1576893, 1578308, 1578413, 1579530, 1579532, 1580039, 1580117, 1580286, 1580395, 1580531, 1580741, 1581196, 1581321, 1581822, 1581942, 1582080, 1582189, 1584632, 1585722, 1587206, 1587901, 1588317, 1588408, 1591487, 1592853, 1593104, 1593808, 1593913, 1595312, 1595937, 1596066, 1596074, 1596330, 1596615, 1596940, 1600598, 1602053, 1603216, 1604572, 1605367, 1606318, 1606518, 1607153, 1607425, 1608734, 1608983, 1609631, 1611009, 1612051, 1612780, 1613137, 1613257, 1613527, 1614128, 1614350, 1614991, 1615774, 1615968, 1616036, 1616283, 1616740, 1617118, 1617296, 1617873, 1618897, 1619450, 1620062, 1620200, 1620240, 1620244, 1621430, 1623244, 1623254, 1623341, 1624678, 1626349, 1626727, 1627316, 1627820, 1629085, 1630250, 1632554, 1632641, 1632684, 1633711, 1634385, 1635497, 1635886, 1636226, 1636523, 1636950, 1637318, 1637457, 1637820, 1638579, 1641075, 1642721, 1643192, 1645713, 1647591, 1648206, 1649282, 1649871, 1651621, 1651830, 1652200, 1653337, 1653675, 1655759, 1656054, 1656854, 1658583, 1659444, 1659486, 1660053, 1660461, 1660655, 1661854, 1662457, 1662971, 1663274, 1663277, 1663610, 1663668, 1665327, 1665545, 1665740, 1665950, 1666236, 1668148, 1669265, 1669448, 1669724, 1670872, 1671628, 1671877, 1672799, 1672888, 1673276, 1673820, 1674123, 1674372, 1675007, 1675643, 1677261, 1677609, 1679545, 1680723, 1681132, 1682232, 1682789, 1684052, 1684107, 1684358, 1685395, 1686353, 1686484, 1689133, 1690871, 1690889, 1690903, 1691390, 1693658, 1694034, 1694167, 1694270, 1694793, 1695131, 1695774, 1695831, 1696093, 1696623, 1698827, 1700573, 1701124, 1703200, 1703356, 1703829, 1705122, 1706269, 1706681, 1706942, 1706961, 1708410, 1709886, 1713584, 1714492, 1715470, 1716311, 1716372, 1716713, 1716788, 1716829, 1718283, 1718386, 1719265, 1720509, 1720870, 1721164, 1721595, 1722438, 1724633, 1725427, 1725570, 1725982, 1726186, 1726479, 1728894, 1729521, 1729824, 1730027, 1730198, 1731721, 1731904, 1732020, 1732275, 1733273, 1734496, 1736285, 1736775, 1737465, 1738562, 1739577, 1739791, 1740033, 1741222, 1742356, 1742819, 1743359, 1744323, 1744380, 1745000, 1746380, 1747192, 1747248, 1747713, 1748324, 1748850, 1748868, 1748898, 1751024, 1751079, 1752493, 1754616, 1756193, 1756322, 1756677, 1756998, 1757375, 1759960, 1760634, 1760660, 1762414, 1762858, 1764884, 1766877, 1767238, 1768057, 1768927, 1769191, 1769465, 1769654, 1770170, 1770578, 1771165, 1771876, 1772036, 1772337, 1772360, 1772672, 1772819, 1773678, 1774897, 1776344, 1776593, 1777660, 1778231, 1778432, 1779115, 1779450, 1779615, 1779668, 1780531, 1781352, 1781869, 1782252, 1782389, 1783031, 1783182, 1783532, 1783971, 1784442, 1784531, 1786337, 1787762, 1789178, 1789288, 1789379, 1789413, 1791261, 1791460, 1792600, 1793461, 1794434, 1794444, 1795583, 1796253, 1796797, 1796913, 1796919, 1796991, 1800916, 1801575, 1803124, 1803208, 1803749, 1803792, 1804727, 1805212, 1805795, 1806108, 1806281, 1807105, 1808805, 1809049, 1809073, 1809534, 1810320, 1810576, 1810829, 1814136, 1815133, 1815203, 1815740, 1816015, 1816186, 1816541, 1818595, 1818756, 1819795, 1820296, 1821049, 1821177, 1821346, 1821637, 1821974, 1822408, 1824305, 1824821, 1826139, 1826869, 1826975, 1828055, 1828181, 1829073, 1829182, 1829466, 1829924, 1830004, 1830126, 1830422, 1830825, 1831757, 1831980, 1832378, 1832699, 1832939, 1833852, 1833973, 1834743, 1835855, 1837151, 1837224, 1837510, 1838915, 1838941, 1840192, 1840689, 1841111, 1841312, 1841465, 1842328, 1844610, 1845260, 1846660, 1847442, 1849114, 1849297, 1853557, 1855639, 1856377, 1856940, 1857332, 1858882, 1860194, 1860990, 1861878, 1864870, 1865180, 1867165, 1867506, 1868622, 1871767, 1871781, 1871850, 1872318, 1872835, 1873290, 1873572, 1874928, 1876470, 1878234, 1879092, 1879622, 1879883, 1881012, 1881442, 1882454, 1883007, 1883135, 1885067, 1886180, 1886500, 1887877, 1888278, 1888976, 1889655, 1891343, 1893328, 1893867, 1895905, 1896632, 1897172, 1897804, 1897938, 1899687, 1900272, 1901160, 1902644, 1904989, 1905842, 1906229, 1906539, 1906754, 1907471, 1910123, 1910438, 1910653, 1911170, 1912411, 1914144, 1914395, 1914416, 1914750, 1914856, 1915130, 1915998, 1917263, 1917622, 1918237, 1918992, 1920592, 1922090, 1922136, 1923166, 1923317, 1923558, 1925622, 1925913, 1926174, 1926337, 1927040, 1927251, 1927292, 1927467, 1927805, 1929237, 1930274, 1931198, 1932756, 1932788, 1933636, 1934339, 1935007, 1935241, 1935936, 1936750, 1939093, 1940957, 1941890, 1942708, 1943993, 1944939, 1945347, 1946054, 1946168, 1946977, 1947350, 1947377, 1948475, 1952031, 1952084, 1953186, 1953346, 1954539, 1955382, 1955574, 1955620, 1955899, 1956002, 1956656, 1956858, 1957511, 1957905, 1957915, 1958334, 1958780, 1961427, 1961500, 1963254, 1963694, 1966024, 1966406, 1967015, 1968350, 1970651, 1970688, 1970782, 1972051, 1972391, 1973100, 1973819, 1975346, 1975974, 1977223, 1980757, 1981037, 1981316, 1981666, 1982538, 1982901, 1983771, 1984002, 1984632, 1985063, 1988630, 1990077, 1990263, 1990631, 1990965, 1991110, 1993899, 1993979, 1993998, 1994179, 1994797, 1997753, 1998030, 1999469, 1999708, 2002322, 2003901, 2005732, 2005946, 2007232, 2007523, 2008544, 2009266, 2010105, 2010284, 2010633, 2011309, 2011681, 2011685, 2013034, 2013180, 2013228, 2014394, 2014866, 2015491, 2015874, 2017885, 2019760, 2019849, 2020352, 2021280, 2021387, 2023965, 2025941, 2026122, 2026667, 2026939, 2027605, 2027694, 2027859, 2027963, 2028470, 2029530, 2029760, 2029774, 2030642, 2031015, 2031543, 2032763, 2033510, 2034985, 2035802, 2036983, 2038329, 2039725, 2039926, 2041046, 2041092, 2041355, 2044713, 2045883, 2046104, 2047233, 2047529, 2048945, 2051551, 2054258, 2054744, 2055640, 2056621, 2059337, 2059393, 2059448, 2060904, 2062517, 2062845, 2063355, 2063615, 2063795, 2063985, 2064372, 2065283, 2065372, 2065799, 2066236, 2066472, 2066570, \n",
        "2066964, 2067074, 2067107, 2067978, 2068122, 2068141], 'morreu'] = 1\n",
        "\n",
        "casos_e_mortes.loc[[922445, 927511, 928451, 928692]]\n",
        "\n",
        "# row = [2696, 3473]\n",
        "\n",
        "# for index, row in casos_e_mortes.iterrows():\n",
        "#     if row['morreu'] == 0:\n",
        "#         df.loc[index,'morreu'] = 1"
      ],
      "execution_count": 13,
      "outputs": [
        {
          "output_type": "execute_result",
          "data": {
            "text/html": [
              "<div>\n",
              "<style scoped>\n",
              "    .dataframe tbody tr th:only-of-type {\n",
              "        vertical-align: middle;\n",
              "    }\n",
              "\n",
              "    .dataframe tbody tr th {\n",
              "        vertical-align: top;\n",
              "    }\n",
              "\n",
              "    .dataframe thead th {\n",
              "        text-align: right;\n",
              "    }\n",
              "</style>\n",
              "<table border=\"1\" class=\"dataframe\">\n",
              "  <thead>\n",
              "    <tr style=\"text-align: right;\">\n",
              "      <th></th>\n",
              "      <th>dt_notific</th>\n",
              "      <th>dt_obito</th>\n",
              "      <th>mes_notific</th>\n",
              "      <th>mes_obito</th>\n",
              "      <th>morreu</th>\n",
              "    </tr>\n",
              "  </thead>\n",
              "  <tbody>\n",
              "    <tr>\n",
              "      <th>922445</th>\n",
              "      <td>2019-06-07</td>\n",
              "      <td>2019-06-06</td>\n",
              "      <td>06</td>\n",
              "      <td>06</td>\n",
              "      <td>1</td>\n",
              "    </tr>\n",
              "    <tr>\n",
              "      <th>927511</th>\n",
              "      <td>2019-04-26</td>\n",
              "      <td>2019-04-25</td>\n",
              "      <td>04</td>\n",
              "      <td>04</td>\n",
              "      <td>1</td>\n",
              "    </tr>\n",
              "    <tr>\n",
              "      <th>928451</th>\n",
              "      <td>2019-06-05</td>\n",
              "      <td>2019-07-06</td>\n",
              "      <td>06</td>\n",
              "      <td>07</td>\n",
              "      <td>1</td>\n",
              "    </tr>\n",
              "    <tr>\n",
              "      <th>928692</th>\n",
              "      <td>2019-05-28</td>\n",
              "      <td>2019-05-14</td>\n",
              "      <td>05</td>\n",
              "      <td>05</td>\n",
              "      <td>1</td>\n",
              "    </tr>\n",
              "  </tbody>\n",
              "</table>\n",
              "</div>"
            ],
            "text/plain": [
              "       dt_notific   dt_obito mes_notific mes_obito  morreu\n",
              "922445 2019-06-07 2019-06-06          06        06       1\n",
              "927511 2019-04-26 2019-04-25          04        04       1\n",
              "928451 2019-06-05 2019-07-06          06        07       1\n",
              "928692 2019-05-28 2019-05-14          05        05       1"
            ]
          },
          "metadata": {
            "tags": []
          },
          "execution_count": 13
        }
      ]
    },
    {
      "cell_type": "code",
      "metadata": {
        "id": "_VlXyJVGdj_N",
        "colab_type": "code",
        "outputId": "18fd121b-d734-4d8f-9b7a-5397ac2af270",
        "colab": {
          "base_uri": "https://localhost:8080/",
          "height": 0
        }
      },
      "source": [
        "ax = sns.countplot(x=\"mes_notific\", hue=\"morreu\", data=casos_e_mortes)"
      ],
      "execution_count": 14,
      "outputs": [
        {
          "output_type": "display_data",
          "data": {
            "image/png": "[encoded data removed]",
            "text/plain": [
              "<Figure size 432x288 with 1 Axes>"
            ]
          },
          "metadata": {
            "tags": [],
            "needs_background": "light"
          }
        }
      ]
    },
    {
      "cell_type": "markdown",
      "metadata": {
        "id": "-Mvfkp0tAtoA",
        "colab_type": "text"
      },
      "source": [
        "# Qual proporção da mortalidade entre homens e mulheres:\n"
      ]
    },
    {
      "cell_type": "code",
      "metadata": {
        "colab_type": "code",
        "id": "4kjiKaS76dE5",
        "outputId": "8be5041b-c224-486e-9eec-5dd79f6d45d6",
        "colab": {
          "base_uri": "https://localhost:8080/",
          "height": 368
        }
      },
      "source": [
        "#Tratamento de Dados\n",
        "\n",
        "obitos_por_genero = pd.DataFrame(df, columns= ['cs_sexo', 'dt_obito'])\n",
        "obitos_por_genero = obitos_por_genero.apply(lambda x: x.replace('None', np.nan))\n",
        "obitos_por_genero.dropna(inplace=True)\n",
        "obitos_por_genero = obitos_por_genero.reset_index()\n",
        "obitos_por_genero.drop(['index'], axis= 1 ,inplace=True)\n",
        "\n",
        "#Final Tratamento\n",
        "obitos_por_genero = obitos_por_genero.groupby(obitos_por_genero['cs_sexo']).count().plot(kind='bar', rot=1, figsize=(8,5))\n",
        "\n",
        "for p in obitos_por_genero.patches:\n",
        "  b=p.get_bbox()\n",
        "  obitos_por_genero.annotate('{:.0f}'.format(p.get_height()), (p.get_x()+0.18, p.get_height()+8))\n",
        "\n",
        "plt.title('Mortalidade entre os gêneros')\n",
        "plt.xlabel(\"Gênero\")\n",
        "plt.ylabel(\"Quantidade\")\n",
        "obitos_por_genero.set_xticklabels([\"Feminino\", \"Ignorados\", \"Masculino\"])\n",
        "\n"
      ],
      "execution_count": 15,
      "outputs": [
        {
          "output_type": "execute_result",
          "data": {
            "text/plain": [
              "[Text(0, 0, 'Feminino'), Text(0, 0, 'Ignorados'), Text(0, 0, 'Masculino')]"
            ]
          },
          "metadata": {
            "tags": []
          },
          "execution_count": 15
        },
        {
          "output_type": "display_data",
          "data": {
            "image/png": "[encoded data removed]",
            "text/plain": [
              "<Figure size 576x360 with 1 Axes>"
            ]
          },
          "metadata": {
            "tags": [],
            "needs_background": "light"
          }
        }
      ]
    },
    {
      "cell_type": "markdown",
      "metadata": {
        "id": "Cz8aZIVEjVjK",
        "colab_type": "text"
      },
      "source": [
        "# Quais os Sinais Clinicos foram mais comum nos casos de dengue notificados:"
      ]
    },
    {
      "cell_type": "code",
      "metadata": {
        "id": "-Rf9Pwvqli_a",
        "colab_type": "code",
        "outputId": "29611b11-5a32-43fe-d8ab-a48ab35033ba",
        "colab": {
          "base_uri": "https://localhost:8080/",
          "height": 402
        }
      },
      "source": [
        "#Tratamento de Dados\n",
        "sinais_clinicos = pd.DataFrame(df, columns= ['febre', 'mialgia', 'cefaleia',\t'exantema',\t'vomito',\t'nausea',\t'dor_costas',\t'conjuntvit',\t'artrite', 'artralgia',\t'petequia_n',\t'leucopenia',\t'laco',\t'dor_retro'])\n",
        "sinais_clinicos = sinais_clinicos.apply(lambda x: x.replace(np.nan, 2.0))\n",
        "sinais_clinicos = sinais_clinicos.apply(lambda x: x.replace(2.0, 0))\n",
        "\n",
        "sinais_clinicos = sinais_clinicos.sum().to_frame().reset_index()\n",
        "sinais_clinicos.columns = ['sinais_clinicos', 'total']\n",
        "sinais_clinicos = sinais_clinicos.sort_values(['total'], ascending=False)\n",
        "\n",
        "#Final Tratamento de Dados\n",
        "\n",
        "plt.figure(figsize=(20,30))\n",
        "\n",
        "g = sns.catplot(x= \"sinais_clinicos\", y='total', data = sinais_clinicos, kind='bar', aspect=3, palette='Reds_r')\n",
        "\n",
        "g.set_xticklabels([\"Febre\", \"Cefaléia\",\"Mialgia\", \"Náusea\", \"DorRetroOcular\", \"DorNasCostas\", \"Vômito\", \n",
        "            \"Exantema\", \"Artralgia\", \"Artrite\", \"Petéquias\", \"Leucopenia\", \"Prova do Laço\", \"Conjutivite\"])\n",
        "\n",
        "g.set_xlabels(\"Sinais Clínicos\")\n",
        "g.set_ylabels(\"Quantidade\")\n",
        "\n",
        "\n",
        "\n"
      ],
      "execution_count": 16,
      "outputs": [
        {
          "output_type": "execute_result",
          "data": {
            "text/plain": [
              "<seaborn.axisgrid.FacetGrid at 0x7f32270a92e8>"
            ]
          },
          "metadata": {
            "tags": []
          },
          "execution_count": 16
        },
        {
          "output_type": "display_data",
          "data": {
            "text/plain": [
              "<Figure size 1440x2160 with 0 Axes>"
            ]
          },
          "metadata": {
            "tags": []
          }
        },
        {
          "output_type": "display_data",
          "data": {
            "image/png": "[encoded data removed]",
            "text/plain": [
              "<Figure size 1080x360 with 1 Axes>"
            ]
          },
          "metadata": {
            "tags": [],
            "needs_background": "light"
          }
        }
      ]
    },
    {
      "cell_type": "markdown",
      "metadata": {
        "id": "8wti1H2O-sHs",
        "colab_type": "text"
      },
      "source": [
        "# Qual a faixa etária onde se teve mais casos de dengue de acordo com o dataset:\n",
        "\n"
      ]
    },
    {
      "cell_type": "code",
      "metadata": {
        "id": "Y75PalNI-rdG",
        "colab_type": "code",
        "outputId": "edba555a-aa18-4e2f-d2ce-6bbc625b1ba2",
        "colab": {
          "base_uri": "https://localhost:8080/",
          "height": 621
        }
      },
      "source": [
        "#Tratamento Dados\n",
        "\n",
        "idade = pd.DataFrame(df, columns= ['dt_notific', 'dt_nasc' ])\n",
        "idade = idade.apply(lambda x: x.replace('None', np.nan))\n",
        "idade.dropna(inplace=True)\n",
        "\n",
        "idade['dt_notific'] = pd.to_datetime(idade['dt_notific'], format='%Y-%m-%d')\n",
        "idade['dt_nasc'] = pd.to_datetime(idade['dt_nasc'], format='%Y-%m-%d')\n",
        "idade['dias_de_vida'] = (idade['dt_notific'] - idade['dt_nasc']).dt.days\n",
        "idade['idade'] = (idade['dias_de_vida'] / 365).astype(int)\n",
        "idade['contagem'] = 1\n",
        "\n",
        "\n",
        "plot_idade = idade['idade'].hist(bins=12, color='red', alpha=.7, figsize=(20,10), grid=False)\n",
        "\n",
        "for p in plot_idade.patches:\n",
        "  b=p.get_bbox()\n",
        "  plot_idade.annotate('{:.0f}'.format(p.get_height()), (p.get_x()+ 2.5, p.get_height()+3500))\n",
        "\n",
        "\n",
        "plt.xlabel('Feixa etária de Idade')\n",
        "plt.ylabel('Quantidade')\n",
        "\n",
        "plt.xticks([0,10,20,30,40,50,60,70,80,90,100,110,119])\n",
        "plt.title('Quantidade de Casos por Idade')\n",
        "plt.show()\n",
        "\n"
      ],
      "execution_count": 17,
      "outputs": [
        {
          "output_type": "display_data",
          "data": {
            "image/png": "[encoded data removed]",
            "text/plain": [
              "<Figure size 1440x720 with 1 Axes>"
            ]
          },
          "metadata": {
            "tags": [],
            "needs_background": "light"
          }
        }
      ]
    }
  ]
}